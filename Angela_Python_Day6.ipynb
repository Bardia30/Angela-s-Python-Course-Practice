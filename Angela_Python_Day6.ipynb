{
 "cells": [
  {
   "cell_type": "code",
   "execution_count": 2,
   "id": "a5f84471",
   "metadata": {},
   "outputs": [],
   "source": [
    "#Functions\n",
    "#print(\"Hello\") #this is a function\n",
    "\n",
    "\n",
    "def my_func():\n",
    "    #Do this\n",
    "    #the do this\n",
    "    #Finally Do this\n",
    "    print(\"hello\")\n",
    "    print(\"bye\")"
   ]
  },
  {
   "cell_type": "code",
   "execution_count": 3,
   "id": "eea994f8",
   "metadata": {},
   "outputs": [
    {
     "name": "stdout",
     "output_type": "stream",
     "text": [
      "hello\n",
      "bye\n"
     ]
    }
   ],
   "source": [
    "my_func() # calling thr function"
   ]
  },
  {
   "cell_type": "code",
   "execution_count": 4,
   "id": "839b076b",
   "metadata": {},
   "outputs": [
    {
     "name": "stdout",
     "output_type": "stream",
     "text": [
      "5\n",
      "4\n",
      "3\n",
      "2\n",
      "1\n",
      "0\n"
     ]
    }
   ],
   "source": [
    "#while loops\n",
    "#while something_is_true:\n",
    "    #do sth\n",
    "    \n",
    "    \n",
    "number = 6    \n",
    "while number > 0:\n",
    "    number -= 1\n",
    "    print(number)"
   ]
  },
  {
   "cell_type": "code",
   "execution_count": null,
   "id": "eefa6ad2",
   "metadata": {},
   "outputs": [],
   "source": [
    "#Hurdle #4 (very interesting one)\n",
    "def jump():\n",
    "    turn_left()\n",
    "    while wall_on_right():\n",
    "        move()\n",
    "    turn_right()\n",
    "    move()\n",
    "    turn_right()\n",
    "    while front_is_clear():\n",
    "        move()\n",
    "    turn_left()\n",
    "\n",
    "\n",
    "while not at_goal():\n",
    "    if not wall_in_front():\n",
    "        move()\n",
    "    else:\n",
    "        jump()"
   ]
  },
  {
   "cell_type": "code",
   "execution_count": null,
   "id": "28c21d53",
   "metadata": {},
   "outputs": [],
   "source": [
    "#maze challenge (it was challenging)\n",
    "def turn_right():\n",
    "    turn_left()\n",
    "    turn_left()\n",
    "    turn_left()\n",
    "\n",
    "if not is_facing_north():\n",
    "    turn_left()\n",
    "\n",
    "while not at_goal():\n",
    "    if right_is_clear():\n",
    "        turn_right()\n",
    "        move()\n",
    "    elif front_is_clear():\n",
    "        move()\n",
    "    else:\n",
    "        turn_left() "
   ]
  },
  {
   "cell_type": "code",
   "execution_count": null,
   "id": "7778dbfb",
   "metadata": {},
   "outputs": [],
   "source": [
    "#angela's way \n",
    "def turn_right():\n",
    "    turn_left()\n",
    "    turn_left()\n",
    "    turn_left()\n",
    "while not at_goal():\n",
    "    if right_is_clear():\n",
    "        turn_right()\n",
    "        move()\n",
    "    elif front_is_clear():\n",
    "        move()\n",
    "    else:\n",
    "        turn_left()\n",
    "        \n",
    "        \n",
    "        \n",
    "        \n",
    "        \n",
    "#without the loop issue when debugged\n",
    "while front_is_clear(): #for a starting position where there is no wall on the right or front\n",
    "    move()\n",
    "turn_left()    \n",
    "\n",
    "while not at_goal():\n",
    "    if right_is_clear():\n",
    "        turn_right()\n",
    "        move()\n",
    "    elif front_is_clear():\n",
    "        move()\n",
    "    else:\n",
    "        turn_left()   \n",
    "       \n"
   ]
  }
 ],
 "metadata": {
  "kernelspec": {
   "display_name": "Python 3 (ipykernel)",
   "language": "python",
   "name": "python3"
  },
  "language_info": {
   "codemirror_mode": {
    "name": "ipython",
    "version": 3
   },
   "file_extension": ".py",
   "mimetype": "text/x-python",
   "name": "python",
   "nbconvert_exporter": "python",
   "pygments_lexer": "ipython3",
   "version": "3.9.12"
  }
 },
 "nbformat": 4,
 "nbformat_minor": 5
}
