{
 "cells": [
  {
   "cell_type": "code",
   "execution_count": null,
   "id": "7f4c6cc9",
   "metadata": {},
   "outputs": [],
   "source": [
    "#day_9"
   ]
  },
  {
   "cell_type": "code",
   "execution_count": null,
   "id": "858265d8",
   "metadata": {},
   "outputs": [],
   "source": [
    "programming_dictionary = {\"Bug\": \"An error in a program that prevents the program from running as expected.\", \"Function\": \"A piece of code that you can easily call over and over again.\"}"
   ]
  },
  {
   "cell_type": "code",
   "execution_count": null,
   "id": "24cabc07",
   "metadata": {},
   "outputs": [],
   "source": [
    "#{key:value}\n",
    "print(programming_dictionary[\"Bug\"])"
   ]
  },
  {
   "cell_type": "code",
   "execution_count": null,
   "id": "38655004",
   "metadata": {},
   "outputs": [],
   "source": [
    "programming_dictionary[\"Loop\"]=\"sth that keeps repeating\"\n",
    "print(programming_dictionary)"
   ]
  },
  {
   "cell_type": "code",
   "execution_count": null,
   "id": "7293d9a2",
   "metadata": {},
   "outputs": [],
   "source": [
    "#programming_dictionary={} \n",
    "#deletes all the items"
   ]
  },
  {
   "cell_type": "code",
   "execution_count": null,
   "id": "0c76b891",
   "metadata": {},
   "outputs": [],
   "source": [
    "#loop through a dict\n",
    "for key in programming_dictionary:\n",
    "    print(key)\n",
    "    print(programming_dictionary[key])\n",
    "    print(key,\":\",programming_dictionary[key])"
   ]
  },
  {
   "cell_type": "code",
   "execution_count": null,
   "id": "f49ba2b1",
   "metadata": {},
   "outputs": [],
   "source": [
    "#programming excercise1\n",
    "student_scores = {\n",
    "  \"Harry\": 81,\n",
    "  \"Ron\": 78,\n",
    "  \"Hermione\": 99, \n",
    "  \"Draco\": 74,\n",
    "  \"Neville\": 62,\n",
    "}\n",
    "# 🚨 Don't change the code above 👆\n",
    "\n",
    "#TODO-1: Create an empty dictionary called student_grades.\n",
    "student_grades={}\n",
    "\n",
    "\n",
    "#TODO-2: Write your code below to add the grades to student_grades.👇\n",
    "for key in student_scores:\n",
    "    if student_scores[key] <= 100 and student_scores[key] >= 91:\n",
    "        student_grades[key] = \"Outstanding\"\n",
    "    elif student_scores[key] <= 90 and student_scores[key] >= 81:\n",
    "        student_grades[key] = \"Exceeds Expectations\"\n",
    "    elif student_scores[key] <= 80 and student_scores[key] >= 71:\n",
    "        student_grades[key] = \"Acceptable\"\n",
    "    else:\n",
    "        student_grades[key] = \"Fail\"\n",
    "\n",
    "\n",
    "# 🚨 Don't change the code below 👇\n",
    "print(student_grades)\n",
    "\n"
   ]
  },
  {
   "cell_type": "code",
   "execution_count": null,
   "id": "a488401f",
   "metadata": {},
   "outputs": [],
   "source": [
    "travel_log = {\n",
    "    \"France\":[\"Paris\",\"Lille\",\"Dijon\"],\n",
    "    \"Germany\":[\"Berlin\",\"Hamburg\",\"Stuttgart\",\"Munich\"]\n",
    "}\n",
    "len(travel_log[\"Germany\"])"
   ]
  },
  {
   "cell_type": "code",
   "execution_count": null,
   "id": "fe928c70",
   "metadata": {},
   "outputs": [],
   "source": [
    "for key in travel_log:\n",
    "    travel_log[key] = {\"cities visited\":travel_log[key],\"total_cities\":len(travel_log[key])}\n",
    "print(travel_log)"
   ]
  },
  {
   "cell_type": "code",
   "execution_count": null,
   "id": "43dba4e5",
   "metadata": {},
   "outputs": [],
   "source": [
    "travel_log = [\n",
    "    {\"countries\":'France' ,\n",
    "     'cities visited': ['Paris', 'Lille', 'Dijon'], \n",
    "     'total_cities': 3\n",
    "    }, \n",
    "    {\"Countries\":'Germany', \n",
    "     'cities visited': ['Berlin', 'Hamburg', 'Stuttgart', 'Munich'], \n",
    "     'total_cities': 4}\n",
    "]"
   ]
  },
  {
   "cell_type": "code",
   "execution_count": null,
   "id": "0c775292",
   "metadata": {},
   "outputs": [],
   "source": [
    "#coding excercise #2\n",
    "#the travel log list below is slightly different than the above (the visits)\n",
    "travel_log = [\n",
    "{\n",
    "  \"country\": \"France\",\n",
    "  \"visits\": 12,\n",
    "  \"cities\": [\"Paris\", \"Lille\", \"Dijon\"]\n",
    "},\n",
    "{\n",
    "  \"country\": \"Germany\",\n",
    "  \"visits\": 5,\n",
    "  \"cities\": [\"Berlin\", \"Hamburg\", \"Stuttgart\"]\n",
    "},\n",
    "]\n",
    "#🚨 Do NOT change the code above\n",
    "\n",
    "#TODO: Write the function that will allow new countries\n",
    "#to be added to the travel_log. 👇\n",
    "def add_new_country(country,visit,cities_list):\n",
    "    travel_log.append({\"country\":country,\"visits\":visit,\"cities\":cities_list})\n",
    "\n",
    "\n",
    "\n",
    "\n",
    "#🚨 Do not change the code below\n",
    "add_new_country(\"Russia\", 2, [\"Moscow\", \"Saint Petersburg\"])\n",
    "print(travel_log)\n",
    "\n",
    "\n",
    "\n"
   ]
  },
  {
   "cell_type": "code",
   "execution_count": null,
   "id": "5ecec2e0",
   "metadata": {},
   "outputs": [],
   "source": [
    "#angela's solution\n",
    "def add_new_country(country,visit,cities_list):\n",
    "    new_country={}\n",
    "    new_country[\"country\"]=country\n",
    "    new_country[\"visits\"]=visit\n",
    "    new_country[\"cities\"]=cities_list\n",
    "    travel_log.append(new_country)"
   ]
  },
  {
   "cell_type": "code",
   "execution_count": null,
   "id": "6b2705a4",
   "metadata": {},
   "outputs": [],
   "source": [
    "order = {\n",
    "    \"starter\": {1: \"Salad\", 2: \"Soup\"},\n",
    "    \"main\": {1: [\"Burger\", \"Fries\"], 2: [\"Steak\"]},\n",
    "    \"dessert\": {1: [\"Ice Cream\"], 2: []},\n",
    "}\n",
    "\n",
    "print(order[\"main\"][2][0])"
   ]
  },
  {
   "cell_type": "code",
   "execution_count": 8,
   "id": "bb190534",
   "metadata": {},
   "outputs": [
    {
     "name": "stdout",
     "output_type": "stream",
     "text": [
      "enter your name: bardia\n",
      "enter your bid: 55\n",
      "is there another bidder?: yes or no: sam\n",
      "enter your name: 66\n",
      "enter your bid: 435\n",
      "is there another bidder?: yes or no: no\n",
      "{'bardia': 55, '66': 435}\n",
      "435\n"
     ]
    }
   ],
   "source": [
    "#blind Auction\n",
    "import os\n",
    "bids={}\n",
    "keep_running = False\n",
    "while not keep_running:\n",
    "    key=input(\"enter your name: \")\n",
    "    value=int(input(\"enter your bid: \"))\n",
    "    bids[key]=value\n",
    "    os.system(\"clear\")\n",
    "    ans = input(\"is there another bidder?: yes or no: \")\n",
    "    if ans==\"no\":\n",
    "        keep_running = True\n",
    "print(bids)   \n",
    "\n",
    "print(max(bids.values()))"
   ]
  },
  {
   "cell_type": "code",
   "execution_count": 2,
   "id": "2600ec3c",
   "metadata": {},
   "outputs": [],
   "source": [
    "bids = {'Bardia': '45', 'sam': '55', 'jen': '77'}"
   ]
  },
  {
   "cell_type": "code",
   "execution_count": 5,
   "id": "75f86d5d",
   "metadata": {},
   "outputs": [
    {
     "name": "stdout",
     "output_type": "stream",
     "text": [
      "77\n"
     ]
    }
   ],
   "source": [
    "print(max(bids.values()))"
   ]
  },
  {
   "cell_type": "code",
   "execution_count": null,
   "id": "21b3017b",
   "metadata": {},
   "outputs": [],
   "source": [
    "#Angela's solution\n",
    "#from replit import clear\n",
    "from art import logo\n",
    "print(logo)\n",
    "\n",
    "bids = {}\n",
    "bidding_finished = False\n",
    "\n",
    "def find_highest_bidder(bidding_record):\n",
    "  highest_bid = 0\n",
    "  winner = \"\"\n",
    "  # bidding_record = {\"Angela\": 123, \"James\": 321}\n",
    "  for bidder in bidding_record:\n",
    "    bid_amount = bidding_record[bidder]\n",
    "    if bid_amount > highest_bid: \n",
    "      highest_bid = bid_amount\n",
    "      winner = bidder\n",
    "  print(f\"The winner is {winner} with a bid of ${highest_bid}\")\n",
    "\n",
    "while not bidding_finished:\n",
    "  name = input(\"What is your name?: \")\n",
    "  price = int(input(\"What is your bid?: $\"))\n",
    "  bids[name] = price\n",
    "  should_continue = input(\"Are there any other bidders? Type 'yes or 'no'.\\n\")\n",
    "  if should_continue == \"no\":\n",
    "    bidding_finished = True\n",
    "    find_highest_bidder(bids)\n",
    "#   elif should_continue == \"yes\":\n",
    "#     clear()"
   ]
  }
 ],
 "metadata": {
  "kernelspec": {
   "display_name": "Python 3 (ipykernel)",
   "language": "python",
   "name": "python3"
  },
  "language_info": {
   "codemirror_mode": {
    "name": "ipython",
    "version": 3
   },
   "file_extension": ".py",
   "mimetype": "text/x-python",
   "name": "python",
   "nbconvert_exporter": "python",
   "pygments_lexer": "ipython3",
   "version": "3.9.12"
  }
 },
 "nbformat": 4,
 "nbformat_minor": 5
}
