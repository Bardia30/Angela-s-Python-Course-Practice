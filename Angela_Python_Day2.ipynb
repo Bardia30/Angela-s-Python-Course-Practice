{
 "cells": [
  {
   "cell_type": "code",
   "execution_count": null,
   "id": "61988bef",
   "metadata": {},
   "outputs": [],
   "source": [
    "# Day 2 of Angela Python Course"
   ]
  },
  {
   "cell_type": "code",
   "execution_count": 29,
   "id": "edf52704",
   "metadata": {},
   "outputs": [
    {
     "name": "stdout",
     "output_type": "stream",
     "text": [
      "Welcome to tip Calculator.\n",
      "what was the total bill?: $150\n",
      "how many to split the bill?: 5\n",
      "what percentage of tip? 10,12, or 15?12\n",
      "Each person should pay: $33.60\n"
     ]
    }
   ],
   "source": [
    "print(\"Welcome to tip Calculator.\")\n",
    "total_bill = float(input(\"what was the total bill?: $\"))\n",
    "split_by = float(input(\"how many to split the bill?: \"))\n",
    "tip = float(input(\"what percentage of tip? 10,12, or 15?\"))\n",
    "each_person_bill = total_bill/split_by\n",
    "total_each = each_person_bill * (1+(tip/100))\n",
    "final_amount = \"{:.2f}\".format(total_each) #formats it to 2 decimal places, better than round function\n",
    "print(\"Each person should pay: $\" + final_amount)"
   ]
  },
  {
   "cell_type": "code",
   "execution_count": null,
   "id": "f6f6626b",
   "metadata": {},
   "outputs": [],
   "source": [
    "# data types: 1- String 2- integer 3- float 4- boolean\n",
    "\n",
    "#string\n",
    "\"hello\"[0] #1st position starts from 0 ( this is called subscripting)\n",
    "\n",
    "string_1 = \"hello\"\n",
    "string_1[-1]\n",
    "\n",
    "#integer (numbers w/ no decimal places)\n",
    "int_1 = 123\n",
    "int_2 = 123_123_123 #(same as writing 123,123,123 for ease of reading)\n",
    "print(int_2)\n",
    "\n",
    "#float\n",
    "#number with decimal places\n",
    "pi=3.14159\n",
    "\n",
    "\n",
    "#boolean (very usefull and common)\n",
    "True \n",
    "False"
   ]
  },
  {
   "cell_type": "code",
   "execution_count": null,
   "id": "b9472363",
   "metadata": {},
   "outputs": [],
   "source": [
    "num_char = len(input(\"your name?:  \"))\n",
    "\n",
    "type(num_char) #gives the data type\n",
    "\n",
    "print(\"your name has \" + str(num_char) + \" characters.\")"
   ]
  },
  {
   "cell_type": "code",
   "execution_count": null,
   "id": "592d410b",
   "metadata": {},
   "outputs": [],
   "source": [
    "num = input(\"enter a two digit number: \")\n",
    "if len(num) != 2:\n",
    "    print(\"I said a two digit number bro!!!!\")\n",
    "    num = input(\"enter a two digit number: \")\n",
    "else:\n",
    "    str_num = str(num)\n",
    "    new_num = int(str_num[0])+int(str_num[1])\n",
    "    print(new_num)"
   ]
  },
  {
   "cell_type": "code",
   "execution_count": null,
   "id": "c3290ca6",
   "metadata": {},
   "outputs": [],
   "source": [
    "# for math operations, PEMDAS is kept (parantheses(), exponents**, mult/, div*, add+, sub-)\n",
    "3*3 + 3/3 -3\n",
    "3*(3 + 3)/3 -3"
   ]
  },
  {
   "cell_type": "code",
   "execution_count": 4,
   "id": "7f0e08f8",
   "metadata": {},
   "outputs": [
    {
     "name": "stdout",
     "output_type": "stream",
     "text": [
      "enter your weight in kg64\n",
      "enter your height in meters1.8\n",
      "your BMI is: 20.0\n"
     ]
    }
   ],
   "source": [
    "#BMI Calculator \n",
    "#BMI = weight/height^2\n",
    "import numpy as np\n",
    "weight = float(input(\"enter your weight in kg\"))\n",
    "height = float(input(\"enter your height in meters\"))\n",
    "\n",
    "bmi = (weight/(height)**2)\n",
    "\n",
    "print('your BMI is: ' + str(np.ceil(bmi)))"
   ]
  },
  {
   "cell_type": "code",
   "execution_count": 3,
   "id": "711ee415",
   "metadata": {},
   "outputs": [
    {
     "data": {
      "text/plain": [
       "19.753086419753085"
      ]
     },
     "execution_count": 3,
     "metadata": {},
     "output_type": "execute_result"
    }
   ],
   "source": [
    "64/(1.8**2)\n"
   ]
  },
  {
   "cell_type": "code",
   "execution_count": 5,
   "id": "a633f28b",
   "metadata": {},
   "outputs": [
    {
     "data": {
      "text/plain": [
       "1"
      ]
     },
     "execution_count": 5,
     "metadata": {},
     "output_type": "execute_result"
    }
   ],
   "source": [
    "6//4 #floor division, type is int"
   ]
  },
  {
   "cell_type": "code",
   "execution_count": 8,
   "id": "d9a2d4c8",
   "metadata": {},
   "outputs": [
    {
     "name": "stdout",
     "output_type": "stream",
     "text": [
      "your score is 3\n",
      "your score is:  3\n"
     ]
    }
   ],
   "source": [
    "score = 1\n",
    "\n",
    "score += 2  #very handy and important, score = score +2\n",
    "print(f\"your score is {score}\")  #f-string, turns everything into string\n",
    "print(\"your score is: \", score)"
   ]
  },
  {
   "cell_type": "code",
   "execution_count": 18,
   "id": "70ea9087",
   "metadata": {},
   "outputs": [
    {
     "name": "stdout",
     "output_type": "stream",
     "text": [
      "enter your current age: 24\n",
      "you have 24090 days, 3432 weeks, and 792 months left.\n"
     ]
    }
   ],
   "source": [
    "#calculates days months and weeks till you are 90 (without fstring)\n",
    "age = int(input(\"enter your current age: \"))\n",
    "years_left = 90 - age\n",
    "months_left = years_left *12\n",
    "weeks_left = years_left*52\n",
    "days_left = years_left*365\n",
    "print(\"you have\",days_left,\"days,\",weeks_left, \"weeks, and\", months_left, \"months left.\")"
   ]
  },
  {
   "cell_type": "code",
   "execution_count": 16,
   "id": "d5c5924b",
   "metadata": {},
   "outputs": [
    {
     "name": "stdout",
     "output_type": "stream",
     "text": [
      "enter your current age: 24\n",
      "you have 24090 days, 3432 weeks, and 792 months left.\n"
     ]
    }
   ],
   "source": [
    "#calculates days months and weeks till you are 90 (with fstring)\n",
    "age = int(input(\"enter your current age: \"))\n",
    "years_left = 90 - age\n",
    "months_left = years_left *12\n",
    "weeks_left = years_left*52\n",
    "days_left = years_left*365\n",
    "print(f\"you have {days_left} days, {weeks_left} weeks, and {months_left} months left.\")"
   ]
  },
  {
   "cell_type": "code",
   "execution_count": null,
   "id": "6a82f53c",
   "metadata": {},
   "outputs": [],
   "source": []
  }
 ],
 "metadata": {
  "kernelspec": {
   "display_name": "Python 3 (ipykernel)",
   "language": "python",
   "name": "python3"
  },
  "language_info": {
   "codemirror_mode": {
    "name": "ipython",
    "version": 3
   },
   "file_extension": ".py",
   "mimetype": "text/x-python",
   "name": "python",
   "nbconvert_exporter": "python",
   "pygments_lexer": "ipython3",
   "version": "3.9.12"
  }
 },
 "nbformat": 4,
 "nbformat_minor": 5
}
