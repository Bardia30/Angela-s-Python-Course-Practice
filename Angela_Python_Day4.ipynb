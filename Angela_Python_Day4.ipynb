{
 "cells": [
  {
   "cell_type": "code",
   "execution_count": null,
   "id": "d7901cf2",
   "metadata": {},
   "outputs": [],
   "source": [
    "#Day 4, randomization and lists"
   ]
  },
  {
   "cell_type": "code",
   "execution_count": null,
   "id": "8b2ea1fb",
   "metadata": {},
   "outputs": [],
   "source": [
    "#pseudorandom number generators (go watch khan academy's video)"
   ]
  },
  {
   "cell_type": "code",
   "execution_count": 6,
   "id": "f5283a37",
   "metadata": {},
   "outputs": [
    {
     "name": "stdout",
     "output_type": "stream",
     "text": [
      "5\n"
     ]
    }
   ],
   "source": [
    "import random\n",
    "\n",
    "random_integer = random.randint(1,10)\n",
    "print(random_integer)"
   ]
  },
  {
   "cell_type": "code",
   "execution_count": null,
   "id": "666df4bb",
   "metadata": {},
   "outputs": [],
   "source": [
    "#module\n",
    "#way to split code into different modules. comparable to sub-assemblies in assembly. e.g. random module"
   ]
  },
  {
   "cell_type": "code",
   "execution_count": 8,
   "id": "230d3950",
   "metadata": {},
   "outputs": [],
   "source": [
    "import my_module"
   ]
  },
  {
   "cell_type": "code",
   "execution_count": 9,
   "id": "7da2c09d",
   "metadata": {},
   "outputs": [
    {
     "name": "stdout",
     "output_type": "stream",
     "text": [
      "3.14159246\n"
     ]
    }
   ],
   "source": [
    "print(my_module.pi)"
   ]
  },
  {
   "cell_type": "code",
   "execution_count": 19,
   "id": "0833dcd7",
   "metadata": {},
   "outputs": [
    {
     "data": {
      "text/plain": [
       "0.11001133405435815"
      ]
     },
     "execution_count": 19,
     "metadata": {},
     "output_type": "execute_result"
    }
   ],
   "source": [
    "random_float = random.random()\n",
    "random_float"
   ]
  },
  {
   "cell_type": "code",
   "execution_count": 20,
   "id": "b35be2c9",
   "metadata": {},
   "outputs": [
    {
     "data": {
      "text/plain": [
       "1.5084027593677134"
      ]
     },
     "execution_count": 20,
     "metadata": {},
     "output_type": "execute_result"
    }
   ],
   "source": [
    "random.uniform(0,5)\n",
    "random.random()*5"
   ]
  },
  {
   "cell_type": "code",
   "execution_count": 52,
   "id": "92351e4a",
   "metadata": {},
   "outputs": [
    {
     "name": "stdout",
     "output_type": "stream",
     "text": [
      "Tails\n"
     ]
    }
   ],
   "source": [
    "import random\n",
    "\n",
    "random_int = random.randint(0,1)\n",
    "\n",
    "if random_int == 0:\n",
    "    \n",
    "    print(\"Heads\")\n",
    "else:\n",
    "    print(\"Tails\")\n",
    "    \n",
    "    "
   ]
  },
  {
   "cell_type": "code",
   "execution_count": 57,
   "id": "aa0d5913",
   "metadata": {},
   "outputs": [],
   "source": [
    "#lists (order matters)\n",
    "fruits = [\"apple\",\"orange\"]\n",
    "\n",
    "states = ['Delaware','pensylvania']\n",
    "states.append(\"New Jersey\")"
   ]
  },
  {
   "cell_type": "code",
   "execution_count": 60,
   "id": "7351a095",
   "metadata": {},
   "outputs": [
    {
     "data": {
      "text/plain": [
       "['Delaware', 'pensylvania', 'New Jersey', 'sth', 'sht2', 'sth', 'sht2']"
      ]
     },
     "execution_count": 60,
     "metadata": {},
     "output_type": "execute_result"
    }
   ],
   "source": [
    "states.extend(['sth','sht2'])\n",
    "states"
   ]
  },
  {
   "cell_type": "code",
   "execution_count": 72,
   "id": "9ca4cf78",
   "metadata": {},
   "outputs": [
    {
     "name": "stdout",
     "output_type": "stream",
     "text": [
      "enter the players names sperated by a comma: Bari, sam, ardi\n",
      "['Bari', 'sam', 'ardi']\n",
      "1\n",
      "the person paying for the bill is:  Bari\n"
     ]
    }
   ],
   "source": [
    "import random\n",
    "players = input(\"enter the players names sperated by a comma: \")\n",
    "names = players.split(\", \") #allows to split string and adds them into a list\n",
    "print(names)\n",
    "\n",
    "random_winner = random.randint(0,len(names))\n",
    "print(random_winner)\n",
    "winner = names[random_winner-1]\n",
    "print('the person paying for the bill is: ',winner)"
   ]
  },
  {
   "cell_type": "code",
   "execution_count": 74,
   "id": "cc8bec17",
   "metadata": {},
   "outputs": [
    {
     "data": {
      "text/plain": [
       "'ardi'"
      ]
     },
     "execution_count": 74,
     "metadata": {},
     "output_type": "execute_result"
    }
   ],
   "source": [
    "#with random() randomly chooses within a list (double check)\n",
    "\n",
    "winner = random.choice(names)\n",
    "winner"
   ]
  },
  {
   "cell_type": "code",
   "execution_count": 88,
   "id": "1ffa4134",
   "metadata": {},
   "outputs": [
    {
     "name": "stdout",
     "output_type": "stream",
     "text": [
      "['⬜️', '⬜️', '⬜️']\n",
      "['⬜️', '⬜️', '⬜️']\n",
      "['⬜️', '⬜️', '⬜️']\n",
      "Where do you want to put the treasure? 22\n",
      "1\n",
      "1\n",
      "['⬜️', '⬜️', '⬜️']\n",
      "['⬜️', 'X', '⬜️']\n",
      "['⬜️', '⬜️', '⬜️']\n"
     ]
    }
   ],
   "source": [
    "row1 = [\"⬜️\",\"⬜️\",\"⬜️\"]\n",
    "row2 = [\"⬜️\",\"⬜️\",\"⬜️\"]\n",
    "row3 = [\"⬜️\",\"⬜️\",\"⬜️\"]\n",
    "map = [row1, row2, row3]\n",
    "print(f\"{row1}\\n{row2}\\n{row3}\")\n",
    "position = input(\"Where do you want to put the treasure? \")\n",
    "\n",
    "first_digit = int(position[0])-1\n",
    "second_digit = int(position[1])-1\n",
    "print(first_digit)\n",
    "print(second_digit)\n",
    "\n",
    "map[second_digit][first_digit] = \"X\"\n",
    "\n",
    "print(f\"{row1}\\n{row2}\\n{row3}\")\n"
   ]
  },
  {
   "cell_type": "code",
   "execution_count": 95,
   "id": "936496a5",
   "metadata": {},
   "outputs": [
    {
     "name": "stdout",
     "output_type": "stream",
     "text": [
      "Choose between rock, paper or scissors: \n",
      "rock\n",
      "\n",
      "        _______\n",
      "    ---'   ____)\n",
      "          (_____)\n",
      "          (_____)\n",
      "          (____)\n",
      "    ---.__(___)\n",
      "    \n",
      "computer's choice:  \n",
      "\n",
      "         ______\n",
      "    ---'   ____)____\n",
      "              ______)\n",
      "           __________)\n",
      "          (____)\n",
      "    ---.__(___)\n",
      "\n",
      "    \n",
      "you win\n"
     ]
    }
   ],
   "source": [
    "import random\n",
    "player = input(\"Choose between rock, paper or scissors: \\n\").lower()\n",
    "\n",
    "if player == 'rock':\n",
    "    print('''\n",
    "        _______\n",
    "    ---'   ____)\n",
    "          (_____)\n",
    "          (_____)\n",
    "          (____)\n",
    "    ---.__(___)\n",
    "    ''')\n",
    "elif player == 'paper':\n",
    "    print('''\n",
    "        _______\n",
    "    ---'   ____)____\n",
    "              ______)\n",
    "              _______)\n",
    "             _______)\n",
    "    ---.__________)\n",
    "    ''')\n",
    "    \n",
    "    \n",
    "elif player == 'scissors':\n",
    "    print('''\n",
    "         ______\n",
    "    ---'   ____)____\n",
    "              ______)\n",
    "           __________)\n",
    "          (____)\n",
    "    ---.__(___)\n",
    "\n",
    "    ''')\n",
    "else: \n",
    "    print('invalid input')\n",
    "\n",
    "comp_rand = random.randint(0,2)     \n",
    "print(\"computer's choice:  \")\n",
    "if comp_rand == 0:\n",
    "    print('''\n",
    "        _______\n",
    "    ---'   ____)\n",
    "          (_____)\n",
    "          (_____)\n",
    "          (____)\n",
    "    ---.__(___)\n",
    "    ''')\n",
    "elif comp_rand == 1:\n",
    "    print('''\n",
    "        _______\n",
    "    ---'   ____)____\n",
    "              ______)\n",
    "              _______)\n",
    "             _______)\n",
    "    ---.__________)\n",
    "    ''')\n",
    "    \n",
    "    \n",
    "elif comp_rand == 2:\n",
    "    print('''\n",
    "         ______\n",
    "    ---'   ____)____\n",
    "              ______)\n",
    "           __________)\n",
    "          (____)\n",
    "    ---.__(___)\n",
    "\n",
    "    ''')\n",
    "    \n",
    "if comp_rand == 0 and player =='rock':\n",
    "    print('push')\n",
    "elif comp_rand == 0 and player =='paper':\n",
    "    print('you win')\n",
    "elif comp_rand == 0 and player =='scissors':\n",
    "    print('you lose')\n",
    "elif comp_rand == 1 and player =='scissors':\n",
    "    print('you win')\n",
    "elif comp_rand == 1 and player =='paper':\n",
    "    print('push')\n",
    "elif comp_rand == 1 and player =='rock':\n",
    "    print('you lose')\n",
    "elif comp_rand == 2 and player =='rock':\n",
    "    print('you win')\n",
    "elif comp_rand == 2 and player =='scissors':\n",
    "    print('push')\n",
    "elif comp_rand == 2 and player =='paper':\n",
    "    print('you lose')\n",
    "else:\n",
    "    print('wtf')\n"
   ]
  },
  {
   "cell_type": "code",
   "execution_count": 99,
   "id": "c92f975d",
   "metadata": {},
   "outputs": [
    {
     "name": "stdout",
     "output_type": "stream",
     "text": [
      "What do you choose? Type 0 for Rock, 1 for Paper or 2 for Scissors.\n",
      "5\n",
      "You typed an invalid number, you lose!\n",
      "Computer chose:\n",
      "\n",
      "    _______\n",
      "---'   ____)____\n",
      "          ______)\n",
      "          _______)\n",
      "         _______)\n",
      "---.__________)\n",
      "\n",
      "You win!\n"
     ]
    }
   ],
   "source": [
    "#Angela's way\n",
    "\n",
    "import random\n",
    "\n",
    "rock = '''\n",
    "    _______\n",
    "---'   ____)\n",
    "      (_____)\n",
    "      (_____)\n",
    "      (____)\n",
    "---.__(___)\n",
    "'''\n",
    "\n",
    "paper = '''\n",
    "    _______\n",
    "---'   ____)____\n",
    "          ______)\n",
    "          _______)\n",
    "         _______)\n",
    "---.__________)\n",
    "'''\n",
    "\n",
    "scissors = '''\n",
    "    _______\n",
    "---'   ____)____\n",
    "          ______)\n",
    "       __________)\n",
    "      (____)\n",
    "---.__(___)\n",
    "'''\n",
    "\n",
    "game_images = [rock, paper, scissors]\n",
    "\n",
    "user_choice = int(input(\"What do you choose? Type 0 for Rock, 1 for Paper or 2 for Scissors.\\n\"))\n",
    "if user_choice >= 3 or user_choice < 0: \n",
    "  print(\"You typed an invalid number, you lose!\") \n",
    "else:\n",
    "    print(game_images[user_choice])\n",
    "\n",
    "computer_choice = random.randint(0, 2)\n",
    "print(\"Computer chose:\")\n",
    "print(game_images[computer_choice])\n",
    "\n",
    " \n",
    "if user_choice == 0 and computer_choice == 2:\n",
    "  print(\"You win!\")\n",
    "elif computer_choice == 0 and user_choice == 2:\n",
    "  print(\"You lose\")\n",
    "elif computer_choice > user_choice:\n",
    "  print(\"You lose\")\n",
    "elif user_choice > computer_choice:\n",
    "  print(\"You win!\")\n",
    "elif computer_choice == user_choice:\n",
    "  print(\"It's a draw\")\n",
    "  \n",
    "####### Debugging challenge: #########\n",
    "#Try running this code and type 5.\n",
    "#It will give you an IndexError and point to line 32 as the issue.\n",
    "#But on line 38 we are trying to prevent a crash by detecting\n",
    "#any numbers great than or equal to 3 or less than 0.\n",
    "#So what's going on?\n",
    "#Can you debug the code and fix it?\n",
    "#Solution: https://repl.it/@appbrewery/rock-paper-scissors-debugged-end"
   ]
  },
  {
   "cell_type": "code",
   "execution_count": null,
   "id": "a7838e5a",
   "metadata": {},
   "outputs": [],
   "source": []
  }
 ],
 "metadata": {
  "kernelspec": {
   "display_name": "Python 3 (ipykernel)",
   "language": "python",
   "name": "python3"
  },
  "language_info": {
   "codemirror_mode": {
    "name": "ipython",
    "version": 3
   },
   "file_extension": ".py",
   "mimetype": "text/x-python",
   "name": "python",
   "nbconvert_exporter": "python",
   "pygments_lexer": "ipython3",
   "version": "3.9.12"
  }
 },
 "nbformat": 4,
 "nbformat_minor": 5
}
