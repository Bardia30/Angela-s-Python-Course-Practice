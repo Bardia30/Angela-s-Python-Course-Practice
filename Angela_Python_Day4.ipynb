{
 "cells": [
  {
   "cell_type": "code",
   "execution_count": null,
   "id": "06594440",
   "metadata": {},
   "outputs": [],
   "source": [
    "#Day 4, randomization and lists"
   ]
  },
  {
   "cell_type": "code",
   "execution_count": null,
   "id": "b6a8b16b",
   "metadata": {},
   "outputs": [],
   "source": [
    "#pseudorandom number generators (go watch khan academy's video)"
   ]
  },
  {
   "cell_type": "code",
   "execution_count": 6,
   "id": "69cff210",
   "metadata": {},
   "outputs": [
    {
     "name": "stdout",
     "output_type": "stream",
     "text": [
      "5\n"
     ]
    }
   ],
   "source": [
    "import random\n",
    "\n",
    "random_integer = random.randint(1,10)\n",
    "print(random_integer)"
   ]
  },
  {
   "cell_type": "code",
   "execution_count": null,
   "id": "f4dddfbf",
   "metadata": {},
   "outputs": [],
   "source": [
    "#module\n",
    "#way to split code into different modules. comparable to sub-assemblies in assembly. e.g. random module"
   ]
  },
  {
   "cell_type": "code",
   "execution_count": 8,
   "id": "a470648d",
   "metadata": {},
   "outputs": [],
   "source": [
    "import my_module"
   ]
  },
  {
   "cell_type": "code",
   "execution_count": 9,
   "id": "a7c4a2bc",
   "metadata": {},
   "outputs": [
    {
     "name": "stdout",
     "output_type": "stream",
     "text": [
      "3.14159246\n"
     ]
    }
   ],
   "source": [
    "print(my_module.pi)"
   ]
  },
  {
   "cell_type": "code",
   "execution_count": 19,
   "id": "73c3287c",
   "metadata": {},
   "outputs": [
    {
     "data": {
      "text/plain": [
       "0.11001133405435815"
      ]
     },
     "execution_count": 19,
     "metadata": {},
     "output_type": "execute_result"
    }
   ],
   "source": [
    "random_float = random.random()\n",
    "random_float"
   ]
  },
  {
   "cell_type": "code",
   "execution_count": 20,
   "id": "16dd9e2f",
   "metadata": {},
   "outputs": [
    {
     "data": {
      "text/plain": [
       "1.5084027593677134"
      ]
     },
     "execution_count": 20,
     "metadata": {},
     "output_type": "execute_result"
    }
   ],
   "source": [
    "random.uniform(0,5)\n",
    "random.random()*5"
   ]
  },
  {
   "cell_type": "code",
   "execution_count": 52,
   "id": "50786b19",
   "metadata": {},
   "outputs": [
    {
     "name": "stdout",
     "output_type": "stream",
     "text": [
      "Tails\n"
     ]
    }
   ],
   "source": [
    "import random\n",
    "\n",
    "random_int = random.randint(0,1)\n",
    "\n",
    "if random_int == 0:\n",
    "    \n",
    "    print(\"Heads\")\n",
    "else:\n",
    "    print(\"Tails\")\n",
    "    \n",
    "    "
   ]
  },
  {
   "cell_type": "code",
   "execution_count": 57,
   "id": "648dbe2a",
   "metadata": {},
   "outputs": [],
   "source": [
    "#lists (order matters)\n",
    "fruits = [\"apple\",\"orange\"]\n",
    "\n",
    "states = ['Delaware','pensylvania']\n",
    "states.append(\"New Jersey\")"
   ]
  },
  {
   "cell_type": "code",
   "execution_count": 60,
   "id": "d5439e66",
   "metadata": {},
   "outputs": [
    {
     "data": {
      "text/plain": [
       "['Delaware', 'pensylvania', 'New Jersey', 'sth', 'sht2', 'sth', 'sht2']"
      ]
     },
     "execution_count": 60,
     "metadata": {},
     "output_type": "execute_result"
    }
   ],
   "source": [
    "states.extend(['sth','sht2'])\n",
    "states"
   ]
  },
  {
   "cell_type": "code",
   "execution_count": 72,
   "id": "533a26dd",
   "metadata": {},
   "outputs": [
    {
     "name": "stdout",
     "output_type": "stream",
     "text": [
      "enter the players names sperated by a comma: Bari, sam, ardi\n",
      "['Bari', 'sam', 'ardi']\n",
      "1\n",
      "the person paying for the bill is:  Bari\n"
     ]
    }
   ],
   "source": [
    "import random\n",
    "players = input(\"enter the players names sperated by a comma: \")\n",
    "names = players.split(\", \") #allows to split string and adds them into a list\n",
    "print(names)\n",
    "\n",
    "random_winner = random.randint(0,len(names))\n",
    "print(random_winner)\n",
    "winner = names[random_winner-1]\n",
    "print('the person paying for the bill is: ',winner)"
   ]
  },
  {
   "cell_type": "code",
   "execution_count": 74,
   "id": "9a51114f",
   "metadata": {},
   "outputs": [
    {
     "data": {
      "text/plain": [
       "'ardi'"
      ]
     },
     "execution_count": 74,
     "metadata": {},
     "output_type": "execute_result"
    }
   ],
   "source": [
    "#with random() randomly chooses within a list (double check)\n",
    "\n",
    "winner = random.choice(names)\n",
    "winner"
   ]
  },
  {
   "cell_type": "code",
   "execution_count": 88,
   "id": "37301016",
   "metadata": {},
   "outputs": [
    {
     "name": "stdout",
     "output_type": "stream",
     "text": [
      "['⬜️', '⬜️', '⬜️']\n",
      "['⬜️', '⬜️', '⬜️']\n",
      "['⬜️', '⬜️', '⬜️']\n",
      "Where do you want to put the treasure? 22\n",
      "1\n",
      "1\n",
      "['⬜️', '⬜️', '⬜️']\n",
      "['⬜️', 'X', '⬜️']\n",
      "['⬜️', '⬜️', '⬜️']\n"
     ]
    }
   ],
   "source": [
    "row1 = [\"⬜️\",\"⬜️\",\"⬜️\"]\n",
    "row2 = [\"⬜️\",\"⬜️\",\"⬜️\"]\n",
    "row3 = [\"⬜️\",\"⬜️\",\"⬜️\"]\n",
    "map = [row1, row2, row3]\n",
    "print(f\"{row1}\\n{row2}\\n{row3}\")\n",
    "position = input(\"Where do you want to put the treasure? \")\n",
    "\n",
    "first_digit = int(position[0])-1\n",
    "second_digit = int(position[1])-1\n",
    "print(first_digit)\n",
    "print(second_digit)\n",
    "\n",
    "map[second_digit][first_digit] = \"X\"\n",
    "\n",
    "print(f\"{row1}\\n{row2}\\n{row3}\")\n"
   ]
  },
  {
   "cell_type": "code",
   "execution_count": 95,
   "id": "c488ad63",
   "metadata": {},
   "outputs": [
    {
     "name": "stdout",
     "output_type": "stream",
     "text": [
      "Choose between rock, paper or scissors: \n",
      "rock\n",
      "\n",
      "        _______\n",
      "    ---'   ____)\n",
      "          (_____)\n",
      "          (_____)\n",
      "          (____)\n",
      "    ---.__(___)\n",
      "    \n",
      "computer's choice:  \n",
      "\n",
      "         ______\n",
      "    ---'   ____)____\n",
      "              ______)\n",
      "           __________)\n",
      "          (____)\n",
      "    ---.__(___)\n",
      "\n",
      "    \n",
      "you win\n"
     ]
    }
   ],
   "source": [
    "import random\n",
    "player = input(\"Choose between rock, paper or scissors: \\n\").lower()\n",
    "\n",
    "if player == 'rock':\n",
    "    print('''\n",
    "        _______\n",
    "    ---'   ____)\n",
    "          (_____)\n",
    "          (_____)\n",
    "          (____)\n",
    "    ---.__(___)\n",
    "    ''')\n",
    "elif player == 'paper':\n",
    "    print('''\n",
    "        _______\n",
    "    ---'   ____)____\n",
    "              ______)\n",
    "              _______)\n",
    "             _______)\n",
    "    ---.__________)\n",
    "    ''')\n",
    "    \n",
    "    \n",
    "elif player == 'scissors':\n",
    "    print('''\n",
    "         ______\n",
    "    ---'   ____)____\n",
    "              ______)\n",
    "           __________)\n",
    "          (____)\n",
    "    ---.__(___)\n",
    "\n",
    "    ''')\n",
    "else: \n",
    "    print('invalid input')\n",
    "\n",
    "comp_rand = random.randint(0,2)     \n",
    "print(\"computer's choice:  \")\n",
    "if comp_rand == 0:\n",
    "    print('''\n",
    "        _______\n",
    "    ---'   ____)\n",
    "          (_____)\n",
    "          (_____)\n",
    "          (____)\n",
    "    ---.__(___)\n",
    "    ''')\n",
    "elif comp_rand == 1:\n",
    "    print('''\n",
    "        _______\n",
    "    ---'   ____)____\n",
    "              ______)\n",
    "              _______)\n",
    "             _______)\n",
    "    ---.__________)\n",
    "    ''')\n",
    "    \n",
    "    \n",
    "elif comp_rand == 2:\n",
    "    print('''\n",
    "         ______\n",
    "    ---'   ____)____\n",
    "              ______)\n",
    "           __________)\n",
    "          (____)\n",
    "    ---.__(___)\n",
    "\n",
    "    ''')\n",
    "    \n",
    "if comp_rand == 0 and player =='rock':\n",
    "    print('push')\n",
    "elif comp_rand == 0 and player =='paper':\n",
    "    print('you win')\n",
    "elif comp_rand == 0 and player =='scissors':\n",
    "    print('you lose')\n",
    "elif comp_rand == 1 and player =='scissors':\n",
    "    print('you win')\n",
    "elif comp_rand == 1 and player =='paper':\n",
    "    print('push')\n",
    "elif comp_rand == 1 and player =='rock':\n",
    "    print('you lose')\n",
    "elif comp_rand == 2 and player =='rock':\n",
    "    print('you win')\n",
    "elif comp_rand == 2 and player =='scissors':\n",
    "    print('push')\n",
    "elif comp_rand == 2 and player =='paper':\n",
    "    print('you lose')\n",
    "else:\n",
    "    print('wtf')\n"
   ]
  },
  {
   "cell_type": "code",
   "execution_count": null,
   "id": "935e0277",
   "metadata": {},
   "outputs": [],
   "source": []
  }
 ],
 "metadata": {
  "kernelspec": {
   "display_name": "Python 3 (ipykernel)",
   "language": "python",
   "name": "python3"
  },
  "language_info": {
   "codemirror_mode": {
    "name": "ipython",
    "version": 3
   },
   "file_extension": ".py",
   "mimetype": "text/x-python",
   "name": "python",
   "nbconvert_exporter": "python",
   "pygments_lexer": "ipython3",
   "version": "3.9.12"
  }
 },
 "nbformat": 4,
 "nbformat_minor": 5
}
