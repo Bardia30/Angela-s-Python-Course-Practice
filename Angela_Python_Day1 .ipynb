{
 "cells": [
  {
   "cell_type": "code",
   "execution_count": 1,
   "id": "6077f3e6",
   "metadata": {},
   "outputs": [],
   "source": [
    "#angela python course day 1"
   ]
  },
  {
   "cell_type": "code",
   "execution_count": 2,
   "id": "3c44001c",
   "metadata": {},
   "outputs": [
    {
     "name": "stdout",
     "output_type": "stream",
     "text": [
      "Hello World!\n"
     ]
    }
   ],
   "source": [
    "print(\"Hello World!\")"
   ]
  },
  {
   "cell_type": "code",
   "execution_count": 3,
   "id": "79c524be",
   "metadata": {},
   "outputs": [
    {
     "name": "stdout",
     "output_type": "stream",
     "text": [
      "day 1 - Python Print Function\n",
      "the func is declared like this:\n",
      "print('what to print')\n"
     ]
    }
   ],
   "source": [
    "print(\"day 1 - Python Print Function\")\n",
    "print(\"the func is declared like this:\")\n",
    "print(\"print('what to print')\")"
   ]
  },
  {
   "cell_type": "code",
   "execution_count": 4,
   "id": "46bd3658",
   "metadata": {},
   "outputs": [
    {
     "name": "stdout",
     "output_type": "stream",
     "text": [
      "hello World!\n",
      "Hello World!\n",
      "Hello World!\n"
     ]
    }
   ],
   "source": [
    "print(\"hello World!\\nHello World!\\nHello World!\")"
   ]
  },
  {
   "cell_type": "code",
   "execution_count": 5,
   "id": "c89321ae",
   "metadata": {},
   "outputs": [
    {
     "name": "stdout",
     "output_type": "stream",
     "text": [
      "Hello Bardia\n"
     ]
    }
   ],
   "source": [
    "name = \"Bardia\"\n",
    "print(\"Hello\"+\" \" +name)\n",
    "#print(\"Hello \" + name)"
   ]
  },
  {
   "cell_type": "code",
   "execution_count": 6,
   "id": "a1d7febc",
   "metadata": {},
   "outputs": [
    {
     "name": "stdout",
     "output_type": "stream",
     "text": [
      "Day 1 - String Manipulation\n",
      "String Concatenation is done with the \"+\" sign.\n",
      "e.g. print(\"Hello \" + \"world\")\n",
      "New lines can be created with a backslash and n.\n"
     ]
    }
   ],
   "source": [
    "print(\"Day 1 - String Manipulation\")\n",
    "print(\"String Concatenation is done with the \" + '\"+\"'  +\" sign.\")\n",
    "print('e.g. print(\"Hello \" + \"world\")')\n",
    "print(\"New lines can be created with a backslash and n.\")"
   ]
  },
  {
   "cell_type": "code",
   "execution_count": 7,
   "id": "02e27f83",
   "metadata": {},
   "outputs": [
    {
     "name": "stdout",
     "output_type": "stream",
     "text": [
      "what is your name?b\n"
     ]
    }
   ],
   "source": [
    "#input function\n",
    "given_name = input(\"what is your name?\")\n"
   ]
  },
  {
   "cell_type": "code",
   "execution_count": 8,
   "id": "d84afc6a",
   "metadata": {},
   "outputs": [
    {
     "name": "stdout",
     "output_type": "stream",
     "text": [
      "b\n"
     ]
    }
   ],
   "source": [
    "print(given_name)"
   ]
  },
  {
   "cell_type": "code",
   "execution_count": 9,
   "id": "c97b2256",
   "metadata": {},
   "outputs": [
    {
     "name": "stdout",
     "output_type": "stream",
     "text": [
      "sth\n"
     ]
    }
   ],
   "source": [
    "print(\"sth\")"
   ]
  },
  {
   "cell_type": "code",
   "execution_count": 10,
   "id": "058bc719",
   "metadata": {},
   "outputs": [
    {
     "name": "stdout",
     "output_type": "stream",
     "text": [
      "what's your name?hj\n",
      "2\n"
     ]
    }
   ],
   "source": [
    "name = input(\"what's your name?\")\n",
    "print(len(name))\n"
   ]
  },
  {
   "cell_type": "code",
   "execution_count": 11,
   "id": "e6f1ee26",
   "metadata": {},
   "outputs": [
    {
     "name": "stdout",
     "output_type": "stream",
     "text": [
      "a: f\n",
      "b: ]gtf\n",
      "a: ]gtf\n",
      "b: f\n"
     ]
    }
   ],
   "source": [
    "a = input(\"a: \")\n",
    "b = input(\"b: \")\n",
    "b_old = b\n",
    "a_old = a\n",
    "b = a_old\n",
    "a = b_old\n",
    "\n",
    "\n",
    "print(\"a: \"+a)\n",
    "print(\"b: \"+b)"
   ]
  },
  {
   "cell_type": "code",
   "execution_count": 12,
   "id": "5e675ae7",
   "metadata": {},
   "outputs": [
    {
     "name": "stdout",
     "output_type": "stream",
     "text": [
      "hello dear future Rock Star!\n",
      "please enter the city you grew up in:\n",
      "Toronto\n",
      "please enter the name of your pet:\n",
      "Bently\n",
      "your future rock band name is:Toronto Bently\n"
     ]
    }
   ],
   "source": [
    "print(\"hello dear future Rock Star!\")\n",
    "city = input(\"please enter the city you grew up in:\\n\")\n",
    "\n",
    "pet = input(\"please enter the name of your pet:\\n\")\n",
    "\n",
    "print(\"your future rock band name is:\" + city + ' ' + pet)"
   ]
  },
  {
   "cell_type": "code",
   "execution_count": null,
   "id": "afd79591",
   "metadata": {},
   "outputs": [],
   "source": []
  }
 ],
 "metadata": {
  "kernelspec": {
   "display_name": "Python 3 (ipykernel)",
   "language": "python",
   "name": "python3"
  },
  "language_info": {
   "codemirror_mode": {
    "name": "ipython",
    "version": 3
   },
   "file_extension": ".py",
   "mimetype": "text/x-python",
   "name": "python",
   "nbconvert_exporter": "python",
   "pygments_lexer": "ipython3",
   "version": "3.9.12"
  }
 },
 "nbformat": 4,
 "nbformat_minor": 5
}
