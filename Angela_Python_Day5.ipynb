{
 "cells": [
  {
   "cell_type": "code",
   "execution_count": null,
   "id": "90b66dfd",
   "metadata": {},
   "outputs": [],
   "source": [
    "#For Loops"
   ]
  },
  {
   "cell_type": "code",
   "execution_count": 2,
   "id": "40807e10",
   "metadata": {},
   "outputs": [
    {
     "name": "stdout",
     "output_type": "stream",
     "text": [
      "Apple\n",
      "Peach\n",
      "Pear\n"
     ]
    }
   ],
   "source": [
    "fruits = [\"Apple\",\"Peach\",\"Pear\"]\n",
    "\n",
    "for i in fruits:\n",
    "    print(i)"
   ]
  },
  {
   "cell_type": "code",
   "execution_count": 15,
   "id": "ceb5f78e",
   "metadata": {},
   "outputs": [
    {
     "name": "stdout",
     "output_type": "stream",
     "text": [
      "Input a list of student heights: 154 165 176\n",
      "165.0\n"
     ]
    }
   ],
   "source": [
    "import math\n",
    "student_heights = input(\"Input a list of student heights: \").split()\n",
    "#print(student_heights)\n",
    "for n in range(0, len(student_heights)):\n",
    "  student_heights[n] = (float((student_heights[n])))\n",
    "\n",
    "# print(student_heights)\n",
    "\n",
    "sum_heights = 0\n",
    "count_height = 0\n",
    "for i in range(len(student_heights)):\n",
    "    sum_heights += student_heights[i]\n",
    "    count_height += 1\n",
    "\n",
    "average_height = round((sum_heights/count_height),2)\n",
    "\n",
    "print(average_height)\n",
    "    \n",
    "\n"
   ]
  },
  {
   "cell_type": "code",
   "execution_count": 27,
   "id": "ee170580",
   "metadata": {},
   "outputs": [
    {
     "name": "stdout",
     "output_type": "stream",
     "text": [
      "what are the student scores: 23452345 4356 245 2345 \n",
      "[23452345, 4356, 245, 2345]\n",
      "23452345\n"
     ]
    }
   ],
   "source": [
    "student_scores = input(\"what are the student scores: \").split()\n",
    "for i in range(len(student_scores)):\n",
    "    student_scores[i] = int(student_scores[i])\n",
    "\n",
    "print(student_scores)\n",
    "\n",
    "highest_score = student_scores[0]\n",
    "for i in student_scores:\n",
    "    if i > highest_score:\n",
    "        highest_score= i\n",
    "        \n",
    "print(highest_score)\n",
    "    \n",
    "        \n",
    "\n",
    "\n"
   ]
  },
  {
   "cell_type": "code",
   "execution_count": 29,
   "id": "f4c3f8f5",
   "metadata": {},
   "outputs": [
    {
     "name": "stdout",
     "output_type": "stream",
     "text": [
      "the highest score is  23452345\n"
     ]
    }
   ],
   "source": [
    "highest_score =0\n",
    "for score in student_scores:\n",
    "    if score > highest_score:\n",
    "        highest_score = score\n",
    "print(\"the highest score is \",highest_score)"
   ]
  },
  {
   "cell_type": "code",
   "execution_count": 31,
   "id": "0ffb8fd3",
   "metadata": {},
   "outputs": [
    {
     "name": "stdout",
     "output_type": "stream",
     "text": [
      "5050\n"
     ]
    }
   ],
   "source": [
    "summ=0\n",
    "for i in range(1,101):\n",
    "    summ+=i\n",
    "print(summ)"
   ]
  },
  {
   "cell_type": "code",
   "execution_count": 34,
   "id": "57e20829",
   "metadata": {},
   "outputs": [
    {
     "name": "stdout",
     "output_type": "stream",
     "text": [
      "2550\n"
     ]
    }
   ],
   "source": [
    "total_even = 0\n",
    "for i in range(1,101):\n",
    "    if i%2 ==0:\n",
    "        total_even += i\n",
    "print(total_even)"
   ]
  },
  {
   "cell_type": "code",
   "execution_count": 37,
   "id": "9d6917ec",
   "metadata": {},
   "outputs": [
    {
     "name": "stdout",
     "output_type": "stream",
     "text": [
      "[2, 4, 6, 8, 10, 12, 14, 16, 18, 20, 22, 24, 26, 28, 30, 32, 34, 36, 38, 40, 42, 44, 46, 48, 50, 52, 54, 56, 58, 60, 62, 64, 66, 68, 70, 72, 74, 76, 78, 80, 82, 84, 86, 88, 90, 92, 94, 96, 98, 100]\n",
      "2550\n"
     ]
    }
   ],
   "source": [
    "total_even =[]\n",
    "for i in range(2,101,2):\n",
    "    total_even.append(i)\n",
    "print(total_even)\n",
    "print(sum(total_even))"
   ]
  },
  {
   "cell_type": "code",
   "execution_count": 39,
   "id": "5a0b32e0",
   "metadata": {},
   "outputs": [
    {
     "name": "stdout",
     "output_type": "stream",
     "text": [
      "1\n",
      "2\n",
      "Fizz\n",
      "4\n",
      "Buzz\n",
      "Fizz\n",
      "7\n",
      "8\n",
      "Fizz\n",
      "Buzz\n",
      "11\n",
      "Fizz\n",
      "13\n",
      "14\n",
      "FizzBuzz\n",
      "16\n",
      "17\n",
      "Fizz\n",
      "19\n",
      "Buzz\n",
      "Fizz\n",
      "22\n",
      "23\n",
      "Fizz\n",
      "Buzz\n",
      "26\n",
      "Fizz\n",
      "28\n",
      "29\n",
      "FizzBuzz\n",
      "31\n",
      "32\n",
      "Fizz\n",
      "34\n",
      "Buzz\n",
      "Fizz\n",
      "37\n",
      "38\n",
      "Fizz\n",
      "Buzz\n",
      "41\n",
      "Fizz\n",
      "43\n",
      "44\n",
      "FizzBuzz\n",
      "46\n",
      "47\n",
      "Fizz\n",
      "49\n",
      "Buzz\n",
      "Fizz\n",
      "52\n",
      "53\n",
      "Fizz\n",
      "Buzz\n",
      "56\n",
      "Fizz\n",
      "58\n",
      "59\n",
      "FizzBuzz\n",
      "61\n",
      "62\n",
      "Fizz\n",
      "64\n",
      "Buzz\n",
      "Fizz\n",
      "67\n",
      "68\n",
      "Fizz\n",
      "Buzz\n",
      "71\n",
      "Fizz\n",
      "73\n",
      "74\n",
      "FizzBuzz\n",
      "76\n",
      "77\n",
      "Fizz\n",
      "79\n",
      "Buzz\n",
      "Fizz\n",
      "82\n",
      "83\n",
      "Fizz\n",
      "Buzz\n",
      "86\n",
      "Fizz\n",
      "88\n",
      "89\n",
      "FizzBuzz\n",
      "91\n",
      "92\n",
      "Fizz\n",
      "94\n",
      "Buzz\n",
      "Fizz\n",
      "97\n",
      "98\n",
      "Fizz\n",
      "Buzz\n"
     ]
    }
   ],
   "source": [
    "for i in range(1,101):\n",
    "    if i % 3 == 0 and i%5 !=0:\n",
    "        print(\"Fizz\")\n",
    "    elif i % 5 == 0 and i % 3 != 0:\n",
    "        print(\"Buzz\")\n",
    "    elif i % 15 == 0:\n",
    "        print(\"FizzBuzz\")\n",
    "    else:\n",
    "        print(i)"
   ]
  },
  {
   "cell_type": "code",
   "execution_count": 43,
   "id": "9e682227",
   "metadata": {},
   "outputs": [
    {
     "name": "stdout",
     "output_type": "stream",
     "text": [
      "1\n",
      "2\n",
      "Fizz\n",
      "4\n",
      "Buzz\n",
      "Fizz\n",
      "7\n",
      "8\n",
      "Fizz\n",
      "Buzz\n",
      "11\n",
      "Fizz\n",
      "13\n",
      "14\n",
      "FizzBuzz\n",
      "16\n",
      "17\n",
      "Fizz\n",
      "19\n",
      "Buzz\n",
      "Fizz\n",
      "22\n",
      "23\n",
      "Fizz\n",
      "Buzz\n",
      "26\n",
      "Fizz\n",
      "28\n",
      "29\n",
      "FizzBuzz\n",
      "31\n",
      "32\n",
      "Fizz\n",
      "34\n",
      "Buzz\n",
      "Fizz\n",
      "37\n",
      "38\n",
      "Fizz\n",
      "Buzz\n",
      "41\n",
      "Fizz\n",
      "43\n",
      "44\n",
      "FizzBuzz\n",
      "46\n",
      "47\n",
      "Fizz\n",
      "49\n",
      "Buzz\n",
      "Fizz\n",
      "52\n",
      "53\n",
      "Fizz\n",
      "Buzz\n",
      "56\n",
      "Fizz\n",
      "58\n",
      "59\n",
      "FizzBuzz\n",
      "61\n",
      "62\n",
      "Fizz\n",
      "64\n",
      "Buzz\n",
      "Fizz\n",
      "67\n",
      "68\n",
      "Fizz\n",
      "Buzz\n",
      "71\n",
      "Fizz\n",
      "73\n",
      "74\n",
      "FizzBuzz\n",
      "76\n",
      "77\n",
      "Fizz\n",
      "79\n",
      "Buzz\n",
      "Fizz\n",
      "82\n",
      "83\n",
      "Fizz\n",
      "Buzz\n",
      "86\n",
      "Fizz\n",
      "88\n",
      "89\n",
      "FizzBuzz\n",
      "91\n",
      "92\n",
      "Fizz\n",
      "94\n",
      "Buzz\n",
      "Fizz\n",
      "97\n",
      "98\n",
      "Fizz\n",
      "Buzz\n"
     ]
    }
   ],
   "source": [
    "for i in range(1,101):\n",
    "    if (i % 3 == 0 ) and (i %5 == 0):\n",
    "        print(\"FizzBuzz\")\n",
    "    elif i % 5 == 0:\n",
    "        print(\"Buzz\")\n",
    "    elif i % 3 == 0:\n",
    "        print(\"Fizz\")\n",
    "    else:\n",
    "        print(i)"
   ]
  },
  {
   "cell_type": "code",
   "execution_count": 70,
   "id": "838f91dd",
   "metadata": {},
   "outputs": [
    {
     "name": "stdout",
     "output_type": "stream",
     "text": [
      "Welcome to the PyPassword Generator!\n",
      "How many letters would you like in your password?\n",
      "3\n",
      "How many symbols would you like?\n",
      "3\n",
      "How many numbers would you like?\n",
      "3\n",
      "['D', 'f', 'y']\n",
      "['1', '9', '0']\n",
      "['!', '#', '*']\n",
      "DDy111!#!\n"
     ]
    }
   ],
   "source": [
    "#Password Generator Project\n",
    "import random\n",
    "letters = ['a', 'b', 'c', 'd', 'e', 'f', 'g', 'h', 'i', 'j', 'k', 'l', 'm', 'n', 'o', 'p', 'q', 'r', 's', 't', 'u', 'v', 'w', 'x', 'y', 'z', 'A', 'B', 'C', 'D', 'E', 'F', 'G', 'H', 'I', 'J', 'K', 'L', 'M', 'N', 'O', 'P', 'Q', 'R', 'S', 'T', 'U', 'V', 'W', 'X', 'Y', 'Z']\n",
    "numbers = ['0', '1', '2', '3', '4', '5', '6', '7', '8', '9']\n",
    "symbols = ['!', '#', '$', '%', '&', '(', ')', '*', '+']\n",
    "\n",
    "print(\"Welcome to the PyPassword Generator!\")\n",
    "nr_letters= int(input(\"How many letters would you like in your password?\\n\")) \n",
    "nr_symbols = int(input(f\"How many symbols would you like?\\n\"))\n",
    "nr_numbers = int(input(f\"How many numbers would you like?\\n\"))\n",
    "\n",
    "#Eazy Level - Order not randomised:\n",
    "#e.g. 4 letter, 2 symbol, 2 number = JduE&!91\n",
    "letters_chosen = []\n",
    "for i in range(0,nr_letters):\n",
    "    ltr = letters[random.randint(0,len(letters)-1)]\n",
    "    letters_chosen.append(ltr)\n",
    "print(letters_chosen)\n",
    "    \n",
    "    \n",
    "numbers_chosen = []\n",
    "for i in range(0,nr_numbers):\n",
    "    nmr = numbers[random.randint(0,len(numbers)-1)]\n",
    "    numbers_chosen.append(nmr)\n",
    "print(numbers_chosen)\n",
    "    \n",
    "\n",
    "symbols_chosen = []\n",
    "for i in range(0,nr_symbols):\n",
    "    sym = symbols[random.randint(0,len(symbols)-1)]\n",
    "    symbols_chosen.append(sym)\n",
    "print(symbols_chosen)\n",
    "    \n",
    "    \n",
    "final_str =\"\"\n",
    "\n",
    "for i in range(0,len(letters_chosen)):\n",
    "    final_str+=letters_chosen[i]\n",
    "    \n",
    "for i in range(0,len(numbers_chosen)):\n",
    "    final_str+=numbers_chosen[i]\n",
    "        \n",
    "for i in range(0,len(symbols_chosen)):\n",
    "    final_str+=symbols_chosen[i]\n",
    "\n",
    "print(final_str)\n",
    "\n",
    "#Hard Level - Order of characters randomised:\n",
    "#e.g. 4 letter, 2 symbol, 2 number = g^2jk8&P"
   ]
  },
  {
   "cell_type": "code",
   "execution_count": 74,
   "id": "cc66d1a8",
   "metadata": {},
   "outputs": [
    {
     "name": "stdout",
     "output_type": "stream",
     "text": [
      "ClT*))446\n"
     ]
    }
   ],
   "source": [
    "#angela's way \n",
    "password=\"\"\n",
    "\n",
    "for char in range(1,nr_letters+1):\n",
    "    random_char = random.choice(letters)\n",
    "    password += random_char\n",
    "    \n",
    "for char in range(1, nr_symbols+1):\n",
    "    password += random.choice(symbols)\n",
    "    \n",
    "for char in range(1, nr_numbers+1):\n",
    "    password+= random.choice(numbers)\n",
    "    \n",
    "print(password)"
   ]
  },
  {
   "cell_type": "code",
   "execution_count": 80,
   "id": "a904e1e8",
   "metadata": {},
   "outputs": [
    {
     "name": "stdout",
     "output_type": "stream",
     "text": [
      "['H', 'k', 'J', '&', '!', '#', '0', '5', '5']\n",
      "['&', 'k', '0', '!', 'H', '5', '#', '5', 'J']\n",
      "your password is &k0!H5#5J\n"
     ]
    }
   ],
   "source": [
    "#hard version\n",
    "pass_lst=[]\n",
    "\n",
    "for char in range(1,nr_letters+1):\n",
    "    random_char = random.choice(letters)\n",
    "    pass_lst.append( random_char)\n",
    "    \n",
    "for char in range(1, nr_symbols+1):\n",
    "    pass_lst.append( random.choice(symbols))\n",
    "    \n",
    "for char in range(1, nr_numbers+1):\n",
    "    pass_lst.append(random.choice(numbers))\n",
    "\n",
    "print(pass_lst)\n",
    "random.shuffle(pass_lst)\n",
    "print(pass_lst)\n",
    "\n",
    "password=\"\"\n",
    "for i in pass_lst:\n",
    "    password += i\n",
    "print(\"your password is\",password)"
   ]
  },
  {
   "cell_type": "code",
   "execution_count": null,
   "id": "9ce59e9e",
   "metadata": {},
   "outputs": [],
   "source": []
  }
 ],
 "metadata": {
  "kernelspec": {
   "display_name": "Python 3 (ipykernel)",
   "language": "python",
   "name": "python3"
  },
  "language_info": {
   "codemirror_mode": {
    "name": "ipython",
    "version": 3
   },
   "file_extension": ".py",
   "mimetype": "text/x-python",
   "name": "python",
   "nbconvert_exporter": "python",
   "pygments_lexer": "ipython3",
   "version": "3.9.12"
  }
 },
 "nbformat": 4,
 "nbformat_minor": 5
}
