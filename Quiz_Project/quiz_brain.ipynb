{
 "cells": [
  {
   "cell_type": "code",
   "execution_count": 9,
   "id": "be3adee4",
   "metadata": {},
   "outputs": [],
   "source": [
    "class QuizBrain:\n",
    "    \n",
    "    \n",
    "    def __init__(self, q_list):\n",
    "        self.question_number = 0\n",
    "        self.question_list = q_list\n",
    "        self.score = 0\n",
    "        self.user_answer =\"\"\n",
    "        \n",
    "    \n",
    "    \n",
    "    def still_has_questions(self):\n",
    "        if self.question_number < len(self.question_list):\n",
    "            return True\n",
    "        else:\n",
    "            False\n",
    "    \n",
    "    \n",
    "        \n",
    "    def next_question(self):\n",
    "        \"\"\"Pull up next question on list, depending on question_number\"\"\"\n",
    "        current_question = self.question_list[self.question_number]\n",
    "        self.question_number += 1\n",
    "        self.user_answer = input(f\"Q.{self.question_number}: {current_question.text}, (True/False)?: \")\n",
    "        \n",
    "        \n",
    "    \n",
    "    def check_answer(self):\n",
    "        current_question = self.question_list[self.question_number-1]\n",
    "        \n",
    "        if self.user_answer == current_question.answer:\n",
    "            self.score += 1\n",
    "        print(f\"Your score is: {self.score}\")\n",
    "\n",
    "#TODO: checking the answer was correct\n",
    "\n",
    "\n",
    "\n",
    "\n",
    "\n",
    "#TODO: checking if we're at the end of the quiz"
   ]
  },
  {
   "cell_type": "code",
   "execution_count": null,
   "id": "e936769d",
   "metadata": {},
   "outputs": [],
   "source": []
  }
 ],
 "metadata": {
  "kernelspec": {
   "display_name": "Python 3 (ipykernel)",
   "language": "python",
   "name": "python3"
  },
  "language_info": {
   "codemirror_mode": {
    "name": "ipython",
    "version": 3
   },
   "file_extension": ".py",
   "mimetype": "text/x-python",
   "name": "python",
   "nbconvert_exporter": "python",
   "pygments_lexer": "ipython3",
   "version": "3.9.12"
  }
 },
 "nbformat": 4,
 "nbformat_minor": 5
}
