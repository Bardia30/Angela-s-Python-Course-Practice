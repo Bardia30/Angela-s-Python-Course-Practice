{
 "cells": [
  {
   "cell_type": "code",
   "execution_count": 7,
   "id": "ddb26175",
   "metadata": {},
   "outputs": [],
   "source": [
    "class Question:\n",
    "    \n",
    "    def __init__(self,question,answer):\n",
    "        self.text = question\n",
    "        self.answer = answer"
   ]
  },
  {
   "cell_type": "code",
   "execution_count": 8,
   "id": "938920ac",
   "metadata": {},
   "outputs": [],
   "source": [
    "#new_ques = Question(\"2+2\",True)"
   ]
  },
  {
   "cell_type": "code",
   "execution_count": null,
   "id": "51bf4d3c",
   "metadata": {},
   "outputs": [],
   "source": []
  },
  {
   "cell_type": "code",
   "execution_count": null,
   "id": "902b7fea",
   "metadata": {},
   "outputs": [],
   "source": []
  }
 ],
 "metadata": {
  "kernelspec": {
   "display_name": "Python 3 (ipykernel)",
   "language": "python",
   "name": "python3"
  },
  "language_info": {
   "codemirror_mode": {
    "name": "ipython",
    "version": 3
   },
   "file_extension": ".py",
   "mimetype": "text/x-python",
   "name": "python",
   "nbconvert_exporter": "python",
   "pygments_lexer": "ipython3",
   "version": "3.9.12"
  }
 },
 "nbformat": 4,
 "nbformat_minor": 5
}
