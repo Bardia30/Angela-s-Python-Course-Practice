{
 "cells": [
  {
   "cell_type": "code",
   "execution_count": 1,
   "id": "78a92c45",
   "metadata": {},
   "outputs": [],
   "source": [
    "import question_model\n",
    "from data import question_data\n",
    "from quiz_brain import QuizBrain"
   ]
  },
  {
   "cell_type": "code",
   "execution_count": 2,
   "id": "7063b87b",
   "metadata": {},
   "outputs": [],
   "source": [
    "class Question:\n",
    "    \n",
    "    def __init__(self,question,answer):\n",
    "        self.text = question\n",
    "        self.answer = answer"
   ]
  },
  {
   "cell_type": "code",
   "execution_count": 17,
   "id": "8e2ac381",
   "metadata": {},
   "outputs": [],
   "source": [
    "class QuizBrain:\n",
    "    \n",
    "    \n",
    "    def __init__(self, q_list):\n",
    "        self.question_number = 0\n",
    "        self.question_list = q_list\n",
    "        self.score = 0\n",
    "        self.user_answer =\"\"\n",
    "        \n",
    "    \n",
    "    \n",
    "    def still_has_questions(self):\n",
    "        if self.question_number < len(self.question_list):\n",
    "            return True\n",
    "        else:\n",
    "            False\n",
    "    \n",
    "    \n",
    "        \n",
    "    def next_question(self):\n",
    "        \"\"\"Pull up next question on list, depending on question_number\"\"\"\n",
    "        current_question = self.question_list[self.question_number]\n",
    "        self.question_number += 1\n",
    "        self.user_answer = input(f\"Q.{self.question_number}: {current_question.text}, (True/False)?: \")\n",
    "        \n",
    "        \n",
    "    \n",
    "    def check_answer(self):\n",
    "        current_question = self.question_list[self.question_number-1]\n",
    "        \n",
    "        if self.user_answer == current_question.answer:\n",
    "            self.score += 1\n",
    "        print(f\"Your score is: {self.score}\")"
   ]
  },
  {
   "cell_type": "code",
   "execution_count": 18,
   "id": "dfe08205",
   "metadata": {},
   "outputs": [
    {
     "name": "stdout",
     "output_type": "stream",
     "text": [
      "Q.1: A slug's blood is green., (True/False)?: True\n",
      "Your score is: 1\n",
      "Q.2: The loudest animal is the African Elephant., (True/False)?: False\n",
      "Your score is: 2\n",
      "Q.3: Approximately one quarter of human bones are in the feet., (True/False)?: False\n",
      "Your score is: 2\n",
      "Q.4: The total surface area of a human lungs is the size of a football pitch., (True/False)?: False\n",
      "Your score is: 2\n",
      "Q.5: In West Virginia, USA, if you accidentally hit an animal with your car, you are free to take it home to eat., (True/False)?: False\n",
      "Your score is: 2\n",
      "Q.6: In London, UK, if you happen to die in the House of Parliament, you are entitled to a state funeral., (True/False)?: False\n",
      "Your score is: 3\n",
      "Q.7: It is illegal to pee in the Ocean in Portugal., (True/False)?: False\n",
      "Your score is: 3\n",
      "Q.8: You can lead a cow down stairs but not up stairs., (True/False)?: False\n",
      "Your score is: 4\n",
      "Q.9: Google was originally called 'Backrub'., (True/False)?: False\n",
      "Your score is: 4\n",
      "Q.10: Buzz Aldrin's mother's maiden name was 'Moon'., (True/False)?: False\n",
      "Your score is: 4\n",
      "Q.11: No piece of square dry paper can be folded in half more than 7 times., (True/False)?: False\n",
      "Your score is: 5\n",
      "Q.12: A few ounces of chocolate can to kill a small dog., (True/False)?: False\n",
      "Your score is: 5\n"
     ]
    }
   ],
   "source": [
    "question_bank=[]\n",
    "for i in question_data:\n",
    "    question_obj = Question(i[\"text\"],i[\"answer\"])\n",
    "#     question_bank.append({question_obj.text:question_obj.answer})\n",
    "    question_bank.append(question_obj)\n",
    "\n",
    "quiz = QuizBrain(question_bank)\n",
    "while quiz.still_has_questions():\n",
    "    quiz.next_question()\n",
    "    quiz.check_answer()"
   ]
  },
  {
   "cell_type": "code",
   "execution_count": null,
   "id": "ab6d4bb8",
   "metadata": {},
   "outputs": [],
   "source": []
  }
 ],
 "metadata": {
  "kernelspec": {
   "display_name": "Python 3 (ipykernel)",
   "language": "python",
   "name": "python3"
  },
  "language_info": {
   "codemirror_mode": {
    "name": "ipython",
    "version": 3
   },
   "file_extension": ".py",
   "mimetype": "text/x-python",
   "name": "python",
   "nbconvert_exporter": "python",
   "pygments_lexer": "ipython3",
   "version": "3.9.12"
  }
 },
 "nbformat": 4,
 "nbformat_minor": 5
}
